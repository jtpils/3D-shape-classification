{
 "cells": [
  {
   "cell_type": "markdown",
   "metadata": {},
   "source": [
    "# 3D shape classification - Riccado Lincetto\n",
    "\n",
    "This notebook uses the 3DShapeNets dataset to perform volumetric classification with a 3D convolutional neural network.\n",
    "\n",
    "## Background\n",
    "\n",
    "With the recent spreading of inexpensive 2.5D depth sensors (aka RGBD sensors) it has now become crucial being able to handle volumetric shapes. To this end, 3DShapeNets (http://3dshapenets.cs.princeton.edu) proposes to represent 3D objects as probability distributions on a 3D voxel grid. Starting then from mesh data (as Object File Format (OFF) or similar formats), 3D voxel grids can be created by setting to 1 the voxels belonging to the mesh and to 0 the remaining voxels. When dealing with a 2D depth-map obtained from a RGBD sensor instead, usually there isn't enough information to completely reconstruct the scene because points in occluded space (e.g. behind the surfaces captured from the sensor) might either belong to the shape or not. This approach however enables also convertion of 2D depth-maps to 3D voxel grids by setting \"uncertain\" points to a value between 0 and 1, representing the probability of each voxel being part of the object.<br>\n",
    "3DShapeNets provides also a dataset of Object File Format samples and some code to perform a classification task on them. The dataset contains 40 different types of objects, but there is also a restricted version with only 10 different classes. The meshes of the objects in those datasets are completely defined (i.e. voxels are only set to either 0 or 1), so simulating the use of 2.5D sensors on them requires projecting objects to 2D planes with different focal points: luckily enough, among the code provided by the authors, there are already a MATLAB function doing it ('3DShapeNets/util/write_input_data.m') and the output produced by this function (in '3DShapeNets/volumetric_data/'), which constitutes the input that the model should be fed with. In this notebook that volumetric data will be used to perform classification directly, instead of recurring to the MATLAB funtion. The model that is used in 3DShapeNets is a Convolutional Deep Belief Network, a network with 5 hidden layers achieving 83.5% accuracy on the restricted dataset ('ModelNet10') and 77% on the integral one ('ModelNet40'). The purpose of this notebook is instead to train a simpler 3D CNN.\n",
    "\n",
    "## Notebook setup\n",
    "\n",
    "Here is a list of parameters that can be modified:\n",
    "- <mark>path</mark>: string containing the location where data is stored. Once the source code has been downloaded from http://3dshapenets.cs.princeton.edu and extracted on a local folder, set 'path' to the directory containing the '3DShapeNets' subfolder. Note that it doesn't need to be inside the directory where this notebook is stored because an 'absolute' path is used, not a relative one;\n",
    "- <mark>classes</mark>: set of classes to be used for classification. Select one of the two configurations, with 10 or 40 classes respectively, or test the code on new configurations. Note: do not include the final slash in path variable and avoid using backslashes (Windows format)."
   ]
  },
  {
   "cell_type": "code",
   "execution_count": 1,
   "metadata": {},
   "outputs": [],
   "source": [
    "path = \"C:/Users/Riccardo/Documents/MATLAB/3DAR\""
   ]
  },
  {
   "cell_type": "code",
   "execution_count": 2,
   "metadata": {},
   "outputs": [],
   "source": [
    "# 10 classes\n",
    "classes = [\"bathtub\", \"bed\", \"chair\", \"desk\", \"dresser\", \"monitor\", \"night_stand\", \"sofa\", \"table\", \"toilet\"]\n",
    "\n",
    "# 40 classes\n",
    "#classes = ['bathtub', 'bed', 'chair', 'desk', 'dresser', 'monitor', 'night_stand', 'sofa', 'table', 'toilet', \\\n",
    "#           'airplane', 'bench', 'bookshelf', 'bottle', 'bowl', 'car', 'cone', 'cup', 'curtain', 'door', \\\n",
    "#           'flower_pot', 'glass_box', 'guitar', 'keyboard', 'lamp', 'laptop', 'mantel', 'person', 'piano', 'plant', \\\n",
    "#           'radio', 'range_hood', 'sink', 'stairs', 'stool', 'tent', 'tv_stand', 'vase', 'wardrobe', 'xbox']"
   ]
  },
  {
   "cell_type": "markdown",
   "metadata": {},
   "source": [
    "## Dataset loading\n",
    "\n",
    "'3DShapeNets/volumetric_data/' folder contains 40 subfolders, each named with the corresponding class label. Inside these are stored training and test sets in different directories:\n",
    "- Training set: ./30/train/\n",
    "- Test set: ./30/test/\n",
    "\n",
    "The number of instances inside each set is variable. All objects have shape 24 x 24 x 24 but, since 3 voxels of extra padding are already added in each dimension, they result having 30 x 30 x 30 voxels."
   ]
  },
  {
   "cell_type": "code",
   "execution_count": 3,
   "metadata": {},
   "outputs": [
    {
     "name": "stderr",
     "output_type": "stream",
     "text": [
      "C:\\Users\\Riccardo\\Anaconda3\\lib\\site-packages\\h5py\\__init__.py:36: FutureWarning: Conversion of the second argument of issubdtype from `float` to `np.floating` is deprecated. In future, it will be treated as `np.float64 == np.dtype(float).type`.\n",
      "  from ._conv import register_converters as _register_converters\n",
      "Using TensorFlow backend.\n"
     ]
    }
   ],
   "source": [
    "# import useful libraries\n",
    "import numpy as np\n",
    "from scipy import io\n",
    "from utils import load_mat, plot_confusion_matrix\n",
    "from sklearn.metrics import confusion_matrix\n",
    "from keras.models import Sequential\n",
    "from keras.layers import Conv3D, LeakyReLU, MaxPooling3D, Flatten, Dense, Activation\n",
    "from keras.optimizers import Adam\n",
    "from keras.utils.np_utils import to_categorical\n",
    "import matplotlib.pyplot as plt\n",
    "%matplotlib inline"
   ]
  },
  {
   "cell_type": "code",
   "execution_count": 4,
   "metadata": {},
   "outputs": [
    {
     "name": "stdout",
     "output_type": "stream",
     "text": [
      "Data will be loaded from C:/Users/Riccardo/Documents/MATLAB/3DAR/3DShapeNets/volumetric_data/\n"
     ]
    }
   ],
   "source": [
    "# set data path\n",
    "path = path + \"/3DShapeNets/volumetric_data/\"\n",
    "print(\"Data will be loaded from\", path)"
   ]
  },
  {
   "cell_type": "markdown",
   "metadata": {},
   "source": [
    "Data is loaded into a dictionary, where the keys are the class names and the values are variable length 1D numpy arrays."
   ]
  },
  {
   "cell_type": "code",
   "execution_count": 5,
   "metadata": {},
   "outputs": [
    {
     "name": "stdout",
     "output_type": "stream",
     "text": [
      "Classification on 10 classes.\n",
      "\n",
      "Importing class: bathtub\n",
      "Training set: 1272\n",
      "Test set    : 600\n",
      "\n",
      "Importing class: bed\n",
      "Training set: 6180\n",
      "Test set    : 1200\n",
      "\n",
      "Importing class: chair\n",
      "Training set: 10668\n",
      "Test set    : 1200\n",
      "\n",
      "Importing class: desk\n",
      "Training set: 2400\n",
      "Test set    : 1032\n",
      "\n",
      "Importing class: dresser\n",
      "Training set: 2400\n",
      "Test set    : 1032\n",
      "\n",
      "Importing class: monitor\n",
      "Training set: 5580\n",
      "Test set    : 1200\n",
      "\n",
      "Importing class: night_stand\n",
      "Training set: 2400\n",
      "Test set    : 1032\n",
      "\n",
      "Importing class: sofa\n",
      "Training set: 8160\n",
      "Test set    : 1200\n",
      "\n",
      "Importing class: table\n",
      "Training set: 4704\n",
      "Test set    : 1200\n",
      "\n",
      "Importing class: toilet\n",
      "Training set: 4128\n",
      "Test set    : 1200\n"
     ]
    }
   ],
   "source": [
    "n_classes = len(classes)\n",
    "print(\"Classification on\", n_classes, \"classes.\")\n",
    "\n",
    "trainSet = {}\n",
    "testSet = {}\n",
    "train_size = np.zeros([n_classes, 1])\n",
    "test_size = np.zeros([n_classes, 1])\n",
    "\n",
    "for index, name in enumerate(classes):\n",
    "    print(\"\\nImporting class:\", name)\n",
    "    \n",
    "    folder = path + name + \"/30/train/\"\n",
    "    trainSet[name], train_size[index] = load_mat(folder, train=True)\n",
    "    \n",
    "    folder = path + name + \"/30/test/\"\n",
    "    testSet[name], test_size[index] = load_mat(folder, train=False)"
   ]
  },
  {
   "cell_type": "markdown",
   "metadata": {},
   "source": [
    "## Data visualization"
   ]
  },
  {
   "cell_type": "code",
   "execution_count": null,
   "metadata": {},
   "outputs": [],
   "source": [
    "from mpl_toolkits import mplot3d\n",
    "%matplotlib notebook\n",
    "\n",
    "fig = plt.figure()\n",
    "ax = plt.axes(projection='3d')\n",
    "\n"
   ]
  },
  {
   "cell_type": "markdown",
   "metadata": {},
   "source": [
    "## Processing\n",
    "\n",
    "Here training and test sets are created, together with their labels: dictionaries trainingSet and testSet are tranformed into 5D numpy arrays, where the first dimension is the number of samples and the last is the number of channels, needed by Keras, which in this case is one."
   ]
  },
  {
   "cell_type": "code",
   "execution_count": 6,
   "metadata": {},
   "outputs": [
    {
     "name": "stdout",
     "output_type": "stream",
     "text": [
      "Training samples: 47892\n",
      "Copying class bathtub into portion: 0 1272\n",
      "Copying class bed into portion: 1272 7452\n",
      "Copying class chair into portion: 7452 18120\n",
      "Copying class desk into portion: 18120 20520\n",
      "Copying class dresser into portion: 20520 22920\n",
      "Copying class monitor into portion: 22920 28500\n",
      "Copying class night_stand into portion: 28500 30900\n",
      "Copying class sofa into portion: 30900 39060\n",
      "Copying class table into portion: 39060 43764\n",
      "Copying class toilet into portion: 43764 47892\n",
      "\n",
      "Test samples:     10896\n",
      "Copying class bathtub into portion: 0 600\n",
      "Copying class bed into portion: 600 1800\n",
      "Copying class chair into portion: 1800 3000\n",
      "Copying class desk into portion: 3000 4032\n",
      "Copying class dresser into portion: 4032 5064\n",
      "Copying class monitor into portion: 5064 6264\n",
      "Copying class night_stand into portion: 6264 7296\n",
      "Copying class sofa into portion: 7296 8496\n",
      "Copying class table into portion: 8496 9696\n",
      "Copying class toilet into portion: 9696 10896\n"
     ]
    }
   ],
   "source": [
    "print(\"Training samples:\", int(np.sum(train_size)))\n",
    "X_train = np.zeros([int(np.sum(train_size)), 30, 30, 30, 1])\n",
    "Y_train = np.zeros([int(np.sum(train_size)), 1])\n",
    "train_count = 0\n",
    "for index, name in enumerate(classes):\n",
    "    print(\"Copying class\", name, \"into portion:\", train_count, train_count+int(train_size[index]))\n",
    "    X_train[train_count:train_count+int(train_size[index]), :, :, :, 0] = trainSet[name]\n",
    "    Y_train[train_count:train_count+int(train_size[index])] = index\n",
    "    train_count += int(train_size[index])\n",
    "    \n",
    "print(\"\\nTest samples:    \", int(np.sum(test_size)))\n",
    "X_test = np.zeros([int(np.sum(test_size)), 30, 30, 30, 1])\n",
    "Y_test = np.zeros([int(np.sum(test_size)), 1])\n",
    "test_count = 0\n",
    "for index, name in enumerate(classes):\n",
    "    print(\"Copying class\", name, \"into portion:\", test_count, test_count+int(test_size[index]))\n",
    "    X_test[test_count:test_count+int(test_size[index]), :, :, :, 0] = testSet[name]\n",
    "    Y_test[test_count:test_count+int(test_size[index])] = index\n",
    "    test_count += int(test_size[index])"
   ]
  },
  {
   "cell_type": "markdown",
   "metadata": {},
   "source": [
    "## Model creation\n",
    "To perform classification, here a sequential model is defined."
   ]
  },
  {
   "cell_type": "code",
   "execution_count": 7,
   "metadata": {},
   "outputs": [],
   "source": [
    "model = Sequential()"
   ]
  },
  {
   "cell_type": "code",
   "execution_count": 8,
   "metadata": {},
   "outputs": [
    {
     "name": "stdout",
     "output_type": "stream",
     "text": [
      "_________________________________________________________________\n",
      "Layer (type)                 Output Shape              Param #   \n",
      "=================================================================\n",
      "conv3d_1 (Conv3D)            (None, 24, 24, 24, 20)    6880      \n",
      "_________________________________________________________________\n",
      "leaky_re_lu_1 (LeakyReLU)    (None, 24, 24, 24, 20)    0         \n",
      "_________________________________________________________________\n",
      "max_pooling3d_1 (MaxPooling3 (None, 12, 12, 12, 20)    0         \n",
      "_________________________________________________________________\n",
      "conv3d_2 (Conv3D)            (None, 8, 8, 8, 60)       150060    \n",
      "_________________________________________________________________\n",
      "leaky_re_lu_2 (LeakyReLU)    (None, 8, 8, 8, 60)       0         \n",
      "_________________________________________________________________\n",
      "max_pooling3d_2 (MaxPooling3 (None, 3, 3, 3, 60)       0         \n",
      "_________________________________________________________________\n",
      "flatten_1 (Flatten)          (None, 1620)              0         \n",
      "_________________________________________________________________\n",
      "dense_1 (Dense)              (None, 10)                16210     \n",
      "_________________________________________________________________\n",
      "activation_1 (Activation)    (None, 10)                0         \n",
      "=================================================================\n",
      "Total params: 173,150\n",
      "Trainable params: 173,150\n",
      "Non-trainable params: 0\n",
      "_________________________________________________________________\n"
     ]
    }
   ],
   "source": [
    "model.add(Conv3D(filters=20,\n",
    "                 kernel_size=(7,7,7),\n",
    "                 strides=(1,1,1),\n",
    "                 use_bias=True,\n",
    "                 input_shape=(30,30,30,1)))\n",
    "model.add(LeakyReLU(alpha=0.3))\n",
    "model.add(MaxPooling3D(pool_size=(2,2,2),\n",
    "                       strides=(2,2,2),\n",
    "                       padding='same'))\n",
    "\n",
    "model.add(Conv3D(filters=60,\n",
    "                 kernel_size=(5,5,5),\n",
    "                 strides=(1,1,1),\n",
    "                 use_bias=True))\n",
    "model.add(LeakyReLU(alpha=0.3))\n",
    "model.add(MaxPooling3D(pool_size=(3,3,3),\n",
    "                       strides=(3,3,3),\n",
    "                       padding='same'))\n",
    "\n",
    "model.add(Flatten())\n",
    "model.add(Dense(10))\n",
    "model.add(Activation('softmax'))\n",
    "\n",
    "model.summary()"
   ]
  },
  {
   "cell_type": "markdown",
   "metadata": {},
   "source": [
    "## Model training"
   ]
  },
  {
   "cell_type": "code",
   "execution_count": 9,
   "metadata": {},
   "outputs": [
    {
     "name": "stdout",
     "output_type": "stream",
     "text": [
      "Train on 47892 samples, validate on 10896 samples\n",
      "Epoch 1/10\n",
      "47892/47892 [==============================] - 163s 3ms/step - loss: 0.3330 - acc: 0.8906 - val_loss: 0.4218 - val_acc: 0.8733\n",
      "Epoch 2/10\n",
      "47892/47892 [==============================] - 136s 3ms/step - loss: 0.1407 - acc: 0.9502 - val_loss: 0.4588 - val_acc: 0.8626\n",
      "Epoch 3/10\n",
      "47892/47892 [==============================] - 135s 3ms/step - loss: 0.1009 - acc: 0.9634 - val_loss: 0.3547 - val_acc: 0.8912\n",
      "Epoch 4/10\n",
      "47892/47892 [==============================] - 133s 3ms/step - loss: 0.0799 - acc: 0.9713 - val_loss: 0.4349 - val_acc: 0.8863\n",
      "Epoch 5/10\n",
      "47892/47892 [==============================] - 132s 3ms/step - loss: 0.0647 - acc: 0.9767 - val_loss: 0.3928 - val_acc: 0.8951\n",
      "Epoch 6/10\n",
      "47892/47892 [==============================] - 132s 3ms/step - loss: 0.0567 - acc: 0.9796 - val_loss: 0.4795 - val_acc: 0.8838\n",
      "Epoch 7/10\n",
      "47892/47892 [==============================] - 134s 3ms/step - loss: 0.0531 - acc: 0.9812 - val_loss: 0.5474 - val_acc: 0.8659\n",
      "Epoch 8/10\n",
      "47892/47892 [==============================] - 133s 3ms/step - loss: 0.0534 - acc: 0.9805 - val_loss: 0.5160 - val_acc: 0.8707\n",
      "Epoch 9/10\n",
      "47892/47892 [==============================] - 133s 3ms/step - loss: 0.0719 - acc: 0.9766 - val_loss: 0.4509 - val_acc: 0.9030\n",
      "Epoch 10/10\n",
      "47892/47892 [==============================] - 133s 3ms/step - loss: 0.0397 - acc: 0.9860 - val_loss: 0.5880 - val_acc: 0.8721\n"
     ]
    },
    {
     "data": {
      "text/plain": [
       "<keras.callbacks.History at 0x16906097c50>"
      ]
     },
     "execution_count": 9,
     "metadata": {},
     "output_type": "execute_result"
    }
   ],
   "source": [
    "opt = Adam(lr=0.001)\n",
    "model.compile(optimizer=opt, loss=\"categorical_crossentropy\", metrics=[\"accuracy\"])\n",
    "model.fit(x=X_train, y=to_categorical(Y_train),\n",
    "          batch_size=128, epochs=10,\n",
    "          validation_data=(X_test, to_categorical(Y_test)),\n",
    "          shuffle=True)"
   ]
  },
  {
   "cell_type": "markdown",
   "metadata": {},
   "source": [
    "## Results"
   ]
  },
  {
   "cell_type": "code",
   "execution_count": 10,
   "metadata": {},
   "outputs": [],
   "source": [
    "Y_pred = model.predict(X_test)      # results are one hot encoded\n",
    "Y_pred = np.argmax(Y_pred, axis=1)  # switch back to categorical representation"
   ]
  },
  {
   "cell_type": "code",
   "execution_count": 11,
   "metadata": {},
   "outputs": [
    {
     "data": {
      "image/png": "[encoded data removed]",
      "text/plain": [
       "<Figure size 1152x576 with 2 Axes>"
      ]
     },
     "metadata": {},
     "output_type": "display_data"
    }
   ],
   "source": [
    "# Compute and plot confusion matrix\n",
    "cnf_matrix = confusion_matrix(Y_test, Y_pred)\n",
    "np.set_printoptions(precision=2)\n",
    "\n",
    "plt.figure(figsize=(16,8))\n",
    "plot_confusion_matrix(cnf_matrix, classes=classes,\n",
    "                      title='Confusion matrix, without normalization')"
   ]
  },
  {
   "cell_type": "markdown",
   "metadata": {},
   "source": [
    "## Post processing"
   ]
  },
  {
   "cell_type": "code",
   "execution_count": null,
   "metadata": {},
   "outputs": [],
   "source": []
  }
 ],
 "metadata": {
  "kernelspec": {
   "display_name": "Python 3",
   "language": "python",
   "name": "python3"
  },
  "language_info": {
   "codemirror_mode": {
    "name": "ipython",
    "version": 3
   },
   "file_extension": ".py",
   "mimetype": "text/x-python",
   "name": "python",
   "nbconvert_exporter": "python",
   "pygments_lexer": "ipython3",
   "version": "3.6.4"
  }
 },
 "nbformat": 4,
 "nbformat_minor": 2
}
